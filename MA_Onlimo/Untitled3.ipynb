{
 "cells": [
  {
   "cell_type": "code",
   "execution_count": 5,
   "id": "c72dea21",
   "metadata": {},
   "outputs": [
    {
     "ename": "ImportError",
     "evalue": "cannot import name 'OL41' from 'name_var' (C:\\Users\\waliy\\Data Onlimo\\MA_Onlimo\\name_var.py)",
     "output_type": "error",
     "traceback": [
      "\u001b[1;31m---------------------------------------------------------------------------\u001b[0m",
      "\u001b[1;31mImportError\u001b[0m                               Traceback (most recent call last)",
      "Input \u001b[1;32mIn [5]\u001b[0m, in \u001b[0;36m<cell line: 1>\u001b[1;34m()\u001b[0m\n\u001b[1;32m----> 1\u001b[0m \u001b[38;5;28;01mfrom\u001b[39;00m \u001b[38;5;21;01mname_var\u001b[39;00m \u001b[38;5;28;01mimport\u001b[39;00m OL41\n",
      "\u001b[1;31mImportError\u001b[0m: cannot import name 'OL41' from 'name_var' (C:\\Users\\waliy\\Data Onlimo\\MA_Onlimo\\name_var.py)"
     ]
    }
   ],
   "source": [
    "from name_var import OL41"
   ]
  },
  {
   "cell_type": "code",
   "execution_count": 4,
   "id": "58043939",
   "metadata": {},
   "outputs": [
    {
     "ename": "AttributeError",
     "evalue": "module 'name_var' has no attribute 'OL41'",
     "output_type": "error",
     "traceback": [
      "\u001b[1;31m---------------------------------------------------------------------------\u001b[0m",
      "\u001b[1;31mAttributeError\u001b[0m                            Traceback (most recent call last)",
      "Input \u001b[1;32mIn [4]\u001b[0m, in \u001b[0;36m<cell line: 1>\u001b[1;34m()\u001b[0m\n\u001b[1;32m----> 1\u001b[0m \u001b[43mvn\u001b[49m\u001b[38;5;241;43m.\u001b[39;49m\u001b[43mOL41\u001b[49m\n",
      "\u001b[1;31mAttributeError\u001b[0m: module 'name_var' has no attribute 'OL41'"
     ]
    }
   ],
   "source": [
    "vn.OL41"
   ]
  },
  {
   "cell_type": "code",
   "execution_count": null,
   "id": "81e1e00b",
   "metadata": {},
   "outputs": [],
   "source": []
  }
 ],
 "metadata": {
  "kernelspec": {
   "display_name": "Python 3 (ipykernel)",
   "language": "python",
   "name": "python3"
  },
  "language_info": {
   "codemirror_mode": {
    "name": "ipython",
    "version": 3
   },
   "file_extension": ".py",
   "mimetype": "text/x-python",
   "name": "python",
   "nbconvert_exporter": "python",
   "pygments_lexer": "ipython3",
   "version": "3.10.4"
  }
 },
 "nbformat": 4,
 "nbformat_minor": 5
}
