{
 "cells": [
  {
   "cell_type": "code",
   "execution_count": 2,
   "id": "1435f9c9",
   "metadata": {},
   "outputs": [],
   "source": [
    "import pandas as pd\n",
    "import datetime \n",
    "from datetime import datetime as dt\n",
    "\n"
   ]
  },
  {
   "cell_type": "code",
   "execution_count": 3,
   "id": "009812e0",
   "metadata": {},
   "outputs": [],
   "source": [
    "sheet = list(range(41,45))\n",
    "filename = []\n",
    "varname = []\n",
    "for i in sheet:\n",
    "    filename.append('OL' + str(i) + '_2022.csv')\n",
    "    varname.append('OL' + str(i))\n"
   ]
  },
  {
   "cell_type": "code",
   "execution_count": 4,
   "id": "65c1d234",
   "metadata": {},
   "outputs": [],
   "source": [
    "for df in varname:\n",
    "    globals()[f'{df}'] = pd.read_csv(f'{df}_2022.csv')    \n",
    "    globals()[f'{df}']['new_date'] = pd.to_datetime(globals()[f'{df}']['DATE'])\n",
    "    globals()[f'{df}']['tgl'] = pd.to_datetime(globals()[f'{df}']['DATE'] + ' ' + globals()[f'{df}']['TIME'])\n",
    "    globals()[f'pH_{df[2:]}'] = [x for x in globals()[f'{df}'][-24:]['pH']]\n",
    "    globals()[f'ab_pH_{df[2:]}'] = sum(map(lambda x : x<5 and x>9, globals()[f'pH_{df[2:]}']))\n",
    "    globals()[f'DO_{df[2:]}'] = [x for x in globals()[f'{df}'][-24:]['DO']]\n",
    "    globals()[f'ab_DO_{df[2:]}'] = sum(map(lambda x : x<1, globals()[f'DO_{df[2:]}']))\n",
    "    globals()[f'NH4_{df[2:]}'] = [x for x in globals()[f'{df}'][-24:]['NH4']]\n",
    "    globals()[f'ab_NH4_{df[2:]}'] = sum(map(lambda x : x>100, globals()[f'NH4_{df[2:]}']))\n",
    "    globals()[f'NO3_{df[2:]}'] = [x for x in globals()[f'{df}'][-24:]['NO3']]\n",
    "    globals()[f'ab_NO3_{df[2:]}'] = sum(map(lambda x : x>100, globals()[f'NO3_{df[2:]}']))\n",
    "    globals()[f'tgl_{df[2:]}'] = globals()[f'{df}']['tgl'].max().strftime((\"%Y-%m-%d %H:%M:%S\"))"
   ]
  },
  {
   "cell_type": "code",
   "execution_count": 36,
   "id": "b30834ed",
   "metadata": {},
   "outputs": [
    {
     "data": {
      "text/plain": [
       "24"
      ]
     },
     "execution_count": 36,
     "metadata": {},
     "output_type": "execute_result"
    }
   ],
   "source": [
    "tanggal_data = df['tgl'].max().strftime((\"%Y-%m-%d %H:%M:%S\")) "
   ]
  },
  {
   "cell_type": "code",
   "execution_count": 5,
   "id": "181882ac",
   "metadata": {},
   "outputs": [
    {
     "data": {
      "text/plain": [
       "['OL41_2022.csv', 'OL42_2022.csv', 'OL43_2022.csv', 'OL44_2022.csv']"
      ]
     },
     "execution_count": 5,
     "metadata": {},
     "output_type": "execute_result"
    }
   ],
   "source": [
    "filename"
   ]
  },
  {
   "cell_type": "code",
   "execution_count": 6,
   "id": "69a3d947",
   "metadata": {},
   "outputs": [
    {
     "data": {
      "text/plain": [
       "['OL41', 'OL42', 'OL43', 'OL44']"
      ]
     },
     "execution_count": 6,
     "metadata": {},
     "output_type": "execute_result"
    }
   ],
   "source": [
    "varname"
   ]
  },
  {
   "cell_type": "code",
   "execution_count": 9,
   "id": "d9b5dd06",
   "metadata": {},
   "outputs": [
    {
     "data": {
      "text/plain": [
       "'2022-02-27 20:00:00'"
      ]
     },
     "execution_count": 9,
     "metadata": {},
     "output_type": "execute_result"
    }
   ],
   "source": [
    "tgl_41"
   ]
  },
  {
   "cell_type": "code",
   "execution_count": 10,
   "id": "051c0f2f",
   "metadata": {},
   "outputs": [
    {
     "data": {
      "text/plain": [
       "[4.82,\n",
       " 4.84,\n",
       " 4.72,\n",
       " 4.52,\n",
       " 4.45,\n",
       " 4.13,\n",
       " 4.17,\n",
       " 4.28,\n",
       " 4.07,\n",
       " 3.34,\n",
       " 4.08,\n",
       " 3.67,\n",
       " 3.78,\n",
       " 3.55,\n",
       " 3.75,\n",
       " 3.82,\n",
       " 3.54,\n",
       " 3.68,\n",
       " 3.64,\n",
       " nan,\n",
       " nan,\n",
       " nan,\n",
       " nan,\n",
       " nan]"
      ]
     },
     "execution_count": 10,
     "metadata": {},
     "output_type": "execute_result"
    }
   ],
   "source": [
    "DO_42[]"
   ]
  },
  {
   "cell_type": "code",
   "execution_count": null,
   "id": "087de8cf",
   "metadata": {},
   "outputs": [],
   "source": []
  }
 ],
 "metadata": {
  "kernelspec": {
   "display_name": "Python 3 (ipykernel)",
   "language": "python",
   "name": "python3"
  },
  "language_info": {
   "codemirror_mode": {
    "name": "ipython",
    "version": 3
   },
   "file_extension": ".py",
   "mimetype": "text/x-python",
   "name": "python",
   "nbconvert_exporter": "python",
   "pygments_lexer": "ipython3",
   "version": "3.10.4"
  }
 },
 "nbformat": 4,
 "nbformat_minor": 5
}
